{
 "cells": [
  {
   "cell_type": "code",
   "execution_count": 73,
   "metadata": {},
   "outputs": [],
   "source": [
    "import numpy as np\n",
    "import matplotlib.pyplot as plt\n",
    "\n",
    "\n",
    "#to create Basis \\Phi\n",
    "from sparse_recovery.compressed_sensing import create_Fourier_basis, create_normal_basis, create_orthonormal_basis\n",
    "\n",
    "#to create signal b = \\Phi\\a\n",
    "from sparse_recovery.compressed_sensing import create_signal\n",
    "\n",
    "#to generate measures X\n",
    "from sparse_recovery.compressed_sensing import get_measures\n",
    "\n",
    "#to calculate coherence\n",
    "from sparse_recovery.compressed_sensing import calculate_coherence\n",
    "\n",
    "#to create noise\n",
    "from sparse_recovery.compressed_sensing import create_noise_from_scratch, create_noise_from_mean_norm_signal\n",
    "\n",
    "#to solve with l1 norm\n",
    "from sparse_recovery.compressed_sensing import solve_compressed_sensing_l1"
   ]
  },
  {
   "cell_type": "code",
   "execution_count": 75,
   "metadata": {},
   "outputs": [],
   "source": [
    "from sparse_recovery.plotters.utils import get_twin_axis, get_training_phases, FIGSIZE, LINEWIDTH, FIGSIZE_SMALL, FIGSIZE_LARGE, FIGSIZE_MEDIUM, FONTSIZE, LABEL_FONTSIZE, TICK_LABEL_FONTSIZE, MARKERSIZE\n",
    "from sparse_recovery.plotters.img_show import custom_imshow\n",
    "\n",
    "from matplotlib.lines import Line2D\n",
    "default_colors = plt.rcParams['axes.prop_cycle'].by_key()['color']"
   ]
  },
  {
   "cell_type": "code",
   "execution_count": 77,
   "metadata": {},
   "outputs": [
    {
     "ename": "NameError",
     "evalue": "name 'tqdm' is not defined",
     "output_type": "error",
     "traceback": [
      "\u001b[0;31m---------------------------------------------------------------------------\u001b[0m",
      "\u001b[0;31mNameError\u001b[0m                                 Traceback (most recent call last)",
      "Cell \u001b[0;32mIn[77], line 16\u001b[0m\n\u001b[1;32m     13\u001b[0m all_tau \u001b[38;5;241m=\u001b[39m np\u001b[38;5;241m.\u001b[39mlinspace(\u001b[38;5;241m0\u001b[39m, \u001b[38;5;241m1\u001b[39m, \u001b[38;5;241m2\u001b[39m\u001b[38;5;241m*\u001b[39m\u001b[38;5;241m10\u001b[39m\u001b[38;5;241m+\u001b[39m\u001b[38;5;241m1\u001b[39m) \u001b[38;5;66;03m# Range of tau values to test\u001b[39;00m\n\u001b[1;32m     15\u001b[0m coherences \u001b[38;5;241m=\u001b[39m [ [] \u001b[38;5;28;01mfor\u001b[39;00m _ \u001b[38;5;129;01min\u001b[39;00m \u001b[38;5;28mrange\u001b[39m(\u001b[38;5;28mlen\u001b[39m(all_N)) ]\n\u001b[0;32m---> 16\u001b[0m \u001b[38;5;28;01mfor\u001b[39;00m i, N \u001b[38;5;129;01min\u001b[39;00m \u001b[43mtqdm\u001b[49m(\u001b[38;5;28menumerate\u001b[39m(all_N), total\u001b[38;5;241m=\u001b[39m\u001b[38;5;28mlen\u001b[39m(all_N)) :\n\u001b[1;32m     17\u001b[0m     \u001b[38;5;28;01mfor\u001b[39;00m j, tau \u001b[38;5;129;01min\u001b[39;00m \u001b[38;5;28menumerate\u001b[39m(all_tau):\n\u001b[1;32m     18\u001b[0m         coherence_value \u001b[38;5;241m=\u001b[39m \u001b[38;5;241m0\u001b[39m\n",
      "\u001b[0;31mNameError\u001b[0m: name 'tqdm' is not defined"
     ]
    }
   ],
   "source": [
    "# Example usage\n",
    "n = 100  # Dimension of Phi\n",
    "seed = None\n",
    "# Generate Phi\n",
    "#Phi = create_Fourier_basis(n) # Fourier basis\n",
    "Phi = create_orthonormal_basis(n, scaler=None, seed=seed) # Q of QR decomposition\n",
    "#Phi = create_normal_basis(n, scaler=None, seed=seed, normalized=False) # Random Normal\n",
    "#Phi = np.eye(n)\n",
    "\n",
    "N_max = n# int(0.9 * n)\n",
    "all_N = list(range(1, N_max, 1)) # Number of measurements, N < n\n",
    "all_tau = np.linspace(0, 1, 1*10+1)  # Range of tau values to test\n",
    "all_tau = np.linspace(0, 1, 2*10+1) # Range of tau values to test\n",
    "\n",
    "coherences = [ [] for _ in range(len(all_N)) ]\n",
    "for i, N in tqdm(enumerate(all_N), total=len(all_N)) :\n",
    "    for j, tau in enumerate(all_tau):\n",
    "        coherence_value = 0\n",
    "        n_trials = 10\n",
    "        for k in range(n_trials):\n",
    "            M, X = get_measures(N, Phi, tau=tau, variance=1/N, seed=None)\n",
    "            #N_1 = int(tau*N)\n",
    "            #M = M[:max(N_1, 1), :]\n",
    "            #M = M[min(N_1, N-1):, :]\n",
    "            coherence_value += calculate_coherence(M.T, Phi)\n",
    "        coherences[i].append(coherence_value / n_trials)\n"
   ]
  },
  {
   "cell_type": "code",
   "execution_count": 60,
   "metadata": {},
   "outputs": [
    {
     "ename": "NameError",
     "evalue": "name 'all_N' is not defined",
     "output_type": "error",
     "traceback": [
      "\u001b[0;31m---------------------------------------------------------------------------\u001b[0m",
      "\u001b[0;31mNameError\u001b[0m                                 Traceback (most recent call last)",
      "Cell \u001b[0;32mIn[60], line 8\u001b[0m\n\u001b[1;32m      6\u001b[0m ax \u001b[38;5;241m=\u001b[39m fig\u001b[38;5;241m.\u001b[39madd_subplot(rows, cols, \u001b[38;5;241m1\u001b[39m)\n\u001b[1;32m      7\u001b[0m _, ax, _ \u001b[38;5;241m=\u001b[39m get_twin_axis(ax\u001b[38;5;241m=\u001b[39max, no_twin\u001b[38;5;241m=\u001b[39m\u001b[38;5;28;01mTrue\u001b[39;00m)\n\u001b[0;32m----> 8\u001b[0m color_indices \u001b[38;5;241m=\u001b[39m np\u001b[38;5;241m.\u001b[39mlinspace(\u001b[38;5;241m0\u001b[39m, \u001b[38;5;241m1\u001b[39m, \u001b[38;5;28mlen\u001b[39m(\u001b[43mall_N\u001b[49m))\n\u001b[1;32m      9\u001b[0m colors \u001b[38;5;241m=\u001b[39m plt\u001b[38;5;241m.\u001b[39mcm\u001b[38;5;241m.\u001b[39mviridis(color_indices)\n\u001b[1;32m     10\u001b[0m \u001b[38;5;28;01mfor\u001b[39;00m i, N \u001b[38;5;129;01min\u001b[39;00m \u001b[38;5;28menumerate\u001b[39m(all_N):\n",
      "\u001b[0;31mNameError\u001b[0m: name 'all_N' is not defined"
     ]
    },
    {
     "data": {
      "image/png": "[encoded data removed]",
      "text/plain": [
       "<Figure size 600x400 with 1 Axes>"
      ]
     },
     "metadata": {},
     "output_type": "display_data"
    }
   ],
   "source": [
    "rows, cols = 1, 1\n",
    "figsize=FIGSIZE\n",
    "figsize=(cols*figsize[0], rows*figsize[1])\n",
    "fig = plt.figure(figsize=figsize)\n",
    "\n",
    "ax = fig.add_subplot(rows, cols, 1)\n",
    "_, ax, _ = get_twin_axis(ax=ax, no_twin=True)\n",
    "color_indices = np.linspace(0, 1, len(all_N))\n",
    "colors = plt.cm.viridis(color_indices)\n",
    "for i, N in enumerate(all_N):\n",
    "    ax.plot(all_tau, coherences[i], label=f'N={N}', color=colors[i])\n",
    "ax.set_xlabel('', fontsize=LABEL_FONTSIZE)\n",
    "ax.set_ylabel('coherence', fontsize=LABEL_FONTSIZE)\n",
    "ax.tick_params(axis='both', labelsize=TICK_LABEL_FONTSIZE)\n",
    "#ax.set_xscale('log')\n",
    "#ax.set_yscale('log')\n",
    "#ax.grid()\n",
    "#ax.legend()\n",
    "# Create a color bar for the sparsity levels `s`\n",
    "sm = plt.cm.ScalarMappable(cmap='viridis', norm=plt.Normalize(vmin=min(all_N), vmax=max(all_N)))\n",
    "sm.set_array([])  # We only need the colormap here, no actual data\n",
    "cbar = plt.colorbar(sm, ax=ax)\n",
    "cbar.set_label('N', fontsize=LABEL_FONTSIZE)\n",
    "\n",
    "#plt.savefig(f\"{LOG_DIR}/coherence_tau\"  + '.pdf', dpi=300, bbox_inches='tight', format='pdf')\n",
    "\n",
    "plt.show()"
   ]
  },
  {
   "cell_type": "code",
   "execution_count": null,
   "metadata": {},
   "outputs": [],
   "source": []
  },
  {
   "cell_type": "code",
   "execution_count": null,
   "metadata": {},
   "outputs": [],
   "source": []
  }
 ],
 "metadata": {
  "kernelspec": {
   "display_name": "Python 3 (ipykernel)",
   "language": "python",
   "name": "python3"
  },
  "language_info": {
   "codemirror_mode": {
    "name": "ipython",
    "version": 3
   },
   "file_extension": ".py",
   "mimetype": "text/x-python",
   "name": "python",
   "nbconvert_exporter": "python",
   "pygments_lexer": "ipython3",
   "version": "3.10.9"
  }
 },
 "nbformat": 4,
 "nbformat_minor": 2
}
