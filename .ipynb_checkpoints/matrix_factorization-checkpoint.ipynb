{
 "cells": [
  {
   "cell_type": "code",
   "execution_count": 22,
   "metadata": {},
   "outputs": [],
   "source": [
    "import os\n",
    "import numpy as np\n",
    "import matplotlib.pyplot as plt\n",
    "\n",
    "import scipy\n",
    "from tqdm import tqdm\n",
    "     \n",
    "\n",
    "from sparse_recovery.plotters.utils import get_twin_axis, FIGSIZE, LINEWIDTH, FIGSIZE_SMALL, FIGSIZE_LARGE, FIGSIZE_MEDIUM, FONTSIZE, LABEL_FONTSIZE, TICK_LABEL_FONTSIZE, MARKERSIZE\n",
    "from sparse_recovery.plotters.img_show import custom_imshow\n",
    "\n",
    "from matplotlib.lines import Line2D\n",
    "default_colors = plt.rcParams['axes.prop_cycle'].by_key()['color']"
   ]
  },
  {
   "cell_type": "code",
   "execution_count": 31,
   "metadata": {},
   "outputs": [],
   "source": [
    "from sparse_recovery.utils import sample_iterations_for_plotting, select_log_space\n",
    "from sparse_recovery.utils import plot_t1_t2, find_memorization_generalization_steps, find_stable_step_final_value\n",
    "from sparse_recovery.compressed_sensing import calculate_coherence\n",
    "from sparse_recovery.matrix_factorization import get_matrices_UV, get_matrices_IndentityUV, get_matrices_QR_UV, calculate_local_coherence\n",
    "from sparse_recovery.matrix_factorization import get_data_matrix_factorization, solve_matrix_factorization_nuclear_norm\n",
    "#from sparse_recovery.matrix_factorization import get_gradient_matrix_factorization, subgradient_descent_matrix_factorization\n",
    "     "
   ]
  },
  {
   "cell_type": "code",
   "execution_count": 34,
   "metadata": {},
   "outputs": [
    {
     "name": "stdout",
     "output_type": "stream",
     "text": [
      "(10, 10) (10, 10) (10,) (10, 10)\n"
     ]
    },
    {
     "ename": "NameError",
     "evalue": "name 'np_SVD' is not defined",
     "output_type": "error",
     "traceback": [
      "\u001b[0;31m---------------------------------------------------------------------------\u001b[0m",
      "\u001b[0;31mNameError\u001b[0m                                 Traceback (most recent call last)",
      "Cell \u001b[0;32mIn[34], line 20\u001b[0m\n\u001b[1;32m     15\u001b[0m \u001b[38;5;66;03m#A_star, U_star, Sigma_star, V_star = get_matrices_UV(n_1, n_2, r, symmetric, normalize=True, scale=None,  seed=seed)\u001b[39;00m\n\u001b[1;32m     16\u001b[0m \n\u001b[1;32m     17\u001b[0m \u001b[38;5;66;03m#(10, 9) (10, 10) (9,) (9, 9)\u001b[39;00m\n\u001b[1;32m     18\u001b[0m \u001b[38;5;28mprint\u001b[39m(A_star\u001b[38;5;241m.\u001b[39mshape, U_star\u001b[38;5;241m.\u001b[39mshape, Sigma_star\u001b[38;5;241m.\u001b[39mshape, V_star\u001b[38;5;241m.\u001b[39mshape)\n\u001b[0;32m---> 20\u001b[0m (X1, X2, _, _), _ \u001b[38;5;241m=\u001b[39m \u001b[43mget_data_matrix_factorization\u001b[49m\u001b[43m(\u001b[49m\u001b[43mA_star\u001b[49m\u001b[43m,\u001b[49m\u001b[43m \u001b[49m\u001b[43mU_star\u001b[49m\u001b[43m,\u001b[49m\u001b[43m \u001b[49m\u001b[43mV_star\u001b[49m\u001b[43m,\u001b[49m\u001b[43m \u001b[49m\u001b[43mN\u001b[49m\u001b[43m,\u001b[49m\u001b[43m \u001b[49m\u001b[43mproblem\u001b[49m\u001b[43m,\u001b[49m\u001b[43m \u001b[49m\u001b[43mtau\u001b[49m\u001b[38;5;241;43m=\u001b[39;49m\u001b[43mtau\u001b[49m\u001b[43m,\u001b[49m\u001b[43m \u001b[49m\u001b[43mvariance\u001b[49m\u001b[38;5;241;43m=\u001b[39;49m\u001b[38;5;241;43m1\u001b[39;49m\u001b[38;5;241;43m/\u001b[39;49m\u001b[43mN\u001b[49m\u001b[43m,\u001b[49m\u001b[43m \u001b[49m\u001b[43mseed\u001b[49m\u001b[38;5;241;43m=\u001b[39;49m\u001b[43mseed\u001b[49m\u001b[43m)\u001b[49m\n\u001b[1;32m     22\u001b[0m mu \u001b[38;5;241m=\u001b[39m calculate_coherence(A\u001b[38;5;241m=\u001b[39mX1\u001b[38;5;241m.\u001b[39mT, B\u001b[38;5;241m=\u001b[39mU_star)\n\u001b[1;32m     23\u001b[0m nu \u001b[38;5;241m=\u001b[39m calculate_coherence(A\u001b[38;5;241m=\u001b[39mX2\u001b[38;5;241m.\u001b[39mT, B\u001b[38;5;241m=\u001b[39mV_star)\n",
      "File \u001b[0;32m~/Desktop/sparse_recovery/sparse_recovery/matrix_factorization.py:375\u001b[0m, in \u001b[0;36mget_data_matrix_factorization\u001b[0;34m(A_star, U_star, V_star, N, problem, tau, variance, seed)\u001b[0m\n\u001b[1;32m    373\u001b[0m P \u001b[38;5;241m=\u001b[39m \u001b[38;5;28;01mNone\u001b[39;00m\n\u001b[1;32m    374\u001b[0m \u001b[38;5;28;01mif\u001b[39;00m tau \u001b[38;5;241m!=\u001b[39m \u001b[38;5;241m0\u001b[39m :\n\u001b[0;32m--> 375\u001b[0m     mu, nu, P \u001b[38;5;241m=\u001b[39m \u001b[43mcalculate_local_coherence\u001b[49m\u001b[43m(\u001b[49m\u001b[43mA_star\u001b[49m\u001b[43m,\u001b[49m\u001b[43m \u001b[49m\u001b[43mU_n1\u001b[49m\u001b[38;5;241;43m=\u001b[39;49m\u001b[38;5;28;43;01mNone\u001b[39;49;00m\u001b[43m,\u001b[49m\u001b[43m \u001b[49m\u001b[43mV_n2\u001b[49m\u001b[38;5;241;43m=\u001b[39;49m\u001b[38;5;28;43;01mNone\u001b[39;49;00m\u001b[43m)\u001b[49m\n\u001b[1;32m    376\u001b[0m (X1, X2, y_star), (X1_bar, X2_bar, y_star_bar) \u001b[38;5;241m=\u001b[39m get_measures_matrix_completion(A_star, N, P\u001b[38;5;241m=\u001b[39mP, tau\u001b[38;5;241m=\u001b[39mtau, one_hot\u001b[38;5;241m=\u001b[39m\u001b[38;5;28;01mTrue\u001b[39;00m, shuffle\u001b[38;5;241m=\u001b[39m\u001b[38;5;28;01mTrue\u001b[39;00m, seed\u001b[38;5;241m=\u001b[39mseed)\n\u001b[1;32m    378\u001b[0m X2_bullet_X1 \u001b[38;5;241m=\u001b[39m \u001b[38;5;28;01mNone\u001b[39;00m\n",
      "File \u001b[0;32m~/Desktop/sparse_recovery/sparse_recovery/matrix_factorization.py:133\u001b[0m, in \u001b[0;36mcalculate_local_coherence\u001b[0;34m(A, U_n1, V_n2)\u001b[0m\n\u001b[1;32m    130\u001b[0m     V_n2 \u001b[38;5;241m=\u001b[39m np\u001b[38;5;241m.\u001b[39meye(n_2) \u001b[38;5;66;03m# (n_2, N_2) = (n_2, n_2)\u001b[39;00m\n\u001b[1;32m    132\u001b[0m \u001b[38;5;66;03m# SVD\u001b[39;00m\n\u001b[0;32m--> 133\u001b[0m Sigma, U, V \u001b[38;5;241m=\u001b[39m \u001b[43mnp_SVD\u001b[49m(A, type_svd\u001b[38;5;241m=\u001b[39m\u001b[38;5;124m'\u001b[39m\u001b[38;5;124mcompact\u001b[39m\u001b[38;5;124m'\u001b[39m) \u001b[38;5;66;03m# (r, r), (n_1, r), (n_2, r)\u001b[39;00m\n\u001b[1;32m    134\u001b[0m r \u001b[38;5;241m=\u001b[39m Sigma\u001b[38;5;241m.\u001b[39mshape[\u001b[38;5;241m0\u001b[39m]\n\u001b[1;32m    136\u001b[0m mu \u001b[38;5;241m=\u001b[39m (n_1\u001b[38;5;241m/\u001b[39mr) \u001b[38;5;241m*\u001b[39m np\u001b[38;5;241m.\u001b[39mlinalg\u001b[38;5;241m.\u001b[39mnorm(U_n1\u001b[38;5;241m.\u001b[39mT \u001b[38;5;241m@\u001b[39m U, axis\u001b[38;5;241m=\u001b[39m\u001b[38;5;241m1\u001b[39m)\u001b[38;5;241m*\u001b[39m\u001b[38;5;241m*\u001b[39m\u001b[38;5;241m2\u001b[39m \u001b[38;5;66;03m# (N_1,)\u001b[39;00m\n",
      "\u001b[0;31mNameError\u001b[0m: name 'np_SVD' is not defined"
     ]
    }
   ],
   "source": [
    "\n",
    "\n",
    "problem = 'matrix-completion'\n",
    "#problem = 'matrix-sensing'\n",
    "     \n",
    "\n",
    "n_1, n_2 = 10, 10  # Dimension of A*\n",
    "n = n_1 * n_2\n",
    "symmetric=False\n",
    "r=5\n",
    "seed = None\n",
    "N=3\n",
    "tau=0.2\n",
    "\n",
    "#A_star, U_star, Sigma_star, V_star = get_matrices_IndentityUV(n_1, n_2, r, distribution=\"normal\", scaler=None, seed=seed)\n",
    "A_star, U_star, Sigma_star, V_star = get_matrices_QR_UV(n_1, n_2, r, distribution=\"normal\", scaler=None, seed=seed)\n",
    "#A_star, U_star, Sigma_star, V_star = get_matrices_UV(n_1, n_2, r, symmetric, normalize=True, scale=None,  seed=seed)\n",
    "\n",
    "#(10, 9) (10, 10) (9,) (9, 9)\n",
    "print(A_star.shape, U_star.shape, Sigma_star.shape, V_star.shape)\n",
    "\n",
    "(X1, X2, _, _), _ = get_data_matrix_factorization(A_star, U_star, V_star, N, problem, tau=tau, variance=1/N, seed=seed)\n",
    "\n",
    "mu = calculate_coherence(A=X1.T, B=U_star)\n",
    "nu = calculate_coherence(A=X2.T, B=V_star)\n",
    "print(mu, nu)\n",
    "\n",
    "mu, nu, P = calculate_local_coherence(A_star, U_n1=None, V_n2=None)\n",
    "print(max(mu), max(nu), mu, nu)\n",
    "     \n"
   ]
  },
  {
   "cell_type": "code",
   "execution_count": null,
   "metadata": {},
   "outputs": [],
   "source": []
  }
 ],
 "metadata": {
  "kernelspec": {
   "display_name": "Python 3 (ipykernel)",
   "language": "python",
   "name": "python3"
  },
  "language_info": {
   "codemirror_mode": {
    "name": "ipython",
    "version": 3
   },
   "file_extension": ".py",
   "mimetype": "text/x-python",
   "name": "python",
   "nbconvert_exporter": "python",
   "pygments_lexer": "ipython3",
   "version": "3.10.5"
  }
 },
 "nbformat": 4,
 "nbformat_minor": 2
}
